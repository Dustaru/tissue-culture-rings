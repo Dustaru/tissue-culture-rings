{
 "metadata": {
  "name": "",
  "signature": "sha256:b6adcd4a42a54305e9450028bc8eb85f701580cee676fd82173e76142b8394ed"
 },
 "nbformat": 3,
 "nbformat_minor": 0,
 "worksheets": [
  {
   "cells": [
    {
     "cell_type": "markdown",
     "metadata": {},
     "source": [
      "<img style=\"float:right; margin-left: 5px\" src=\"rings.jpg\" width=\"30%\"/>\n",
      "[Oct 10, 2014] Ban Xiong (BX) found cells growing in concentric circles on his tissue culture (TC) well plates inside the incubator.\n",
      "There were roughly 7 rings in a 10 cm TC well. Guess what could have caused the rings?\n",
      "\n",
      "Vibrations?\n",
      "\n",
      "With the setting up of standing waves, the cells should accumulate at the nodes where the amplitude is always zero (every half a wavelength, $\\lambda/2$ ), so $7/2 = 3.5$ wavelengths cover 5 cm."
     ]
    },
    {
     "cell_type": "code",
     "collapsed": false,
     "input": [
      "rings=7\n",
      "l = 5/(rings/2) # wavelength lambda in cm\n",
      "l"
     ],
     "language": "python",
     "metadata": {},
     "outputs": [
      {
       "metadata": {},
       "output_type": "pyout",
       "prompt_number": 5,
       "text": [
        "1.4285714285714286"
       ]
      }
     ],
     "prompt_number": 5
    },
    {
     "cell_type": "markdown",
     "metadata": {},
     "source": [
      "Assume the media in the TC well was roughly 0.5 cm deep, so we can consider the case of surface gravity waves in water, which has the dispersion relation:\n",
      "\n",
      "$$ f = \\sqrt{\\frac{g}{2\\pi\\lambda}\\tanh(\\frac{2\\pi h}{\\lambda})} $$\n",
      "\n",
      "Subbing in the height $h = 0.5$ cm, wavelength $\\lambda = 1.43$ cm from above, as well as the standard gravity $g = 9.81$ m/s$^2$, we arrive at the frequency in hertz:"
     ]
    },
    {
     "cell_type": "code",
     "collapsed": false,
     "input": [
      "h = 0.5 # cm\n",
      "g = 9.81 * 100 # cm/s2\n",
      "f = sqrt( g/(2*pi*l) * tanh(2*pi*h/l) ) # Hz\n",
      "f"
     ],
     "language": "python",
     "metadata": {},
     "outputs": [
      {
       "metadata": {},
       "output_type": "pyout",
       "prompt_number": 6,
       "text": [
        "10.326470095656887"
       ]
      }
     ],
     "prompt_number": 6
    },
    {
     "cell_type": "markdown",
     "metadata": {},
     "source": [
      "<img style=\"float:right; margin-left:5px\" src=\"dxb8260hp.jpg\" width=\"20%\"/>\n",
      "When BX found his TC plates messed up with concentric rings, there was ongoing roadworks just beside our building at Immunos: the workers were breaking up the tar road with a hydraulic hammer attached to a crane, laying stuff, then filling up with sand before more pounding and covering over with tar. \n",
      "\n",
      "I did spend some time looking at the roadworks but didn't pay attention to the brand of the heavy equipment. Googling randomly for a road breaker, I found the Doosan hydraulic breaker series have a frequency of 600 blows per minute (bpm) for their larger units.\n",
      "\n",
      "\n",
      "http://www.doosan.com/doosaninfracorece/attach_files/product_pdf/Doosan_Breaker_EN.pdf\n",
      "\n",
      "That equates to a frequency of 600/60 = 10 Hz. The maximum for smaller hydraulic brakers is 1000 blows/minute = 16.7 Hz. *Looks like BX's suspicions of the culprit are quite spot-on!*\n",
      "\n",
      "[Oct 20] Saw a different crane today at the same roadpoint from Kobelco.  A rough google for \"Kobelco hydraulic breaker bpm\" gave 490 - 780, equivalent to about 8-13 Hz."
     ]
    },
    {
     "cell_type": "code",
     "collapsed": false,
     "input": [],
     "language": "python",
     "metadata": {},
     "outputs": []
    }
   ],
   "metadata": {}
  }
 ]
}