{
 "metadata": {
  "name": "",
  "signature": "sha256:250b40942281407fdc9bd0bcb46a218a0f1d46e34c6b597f9c1d434c5854d4a8"
 },
 "nbformat": 3,
 "nbformat_minor": 0,
 "worksheets": [
  {
   "cells": [
    {
     "cell_type": "markdown",
     "metadata": {},
     "source": [
      "BX found cells growing in concentric circles on his tissue culture (TC) well plates inside the incubator.\n",
      "There were roughly 7 rings in a 10 cm TC well.\n",
      "With the setting up of standing waves, the cells should accumulate at the nodes where the amplitude is always zero (every half a wavelength, $\\lambda/2$ ), so $7/2 = 3.5$ wavelengths cover 5 cm."
     ]
    },
    {
     "cell_type": "code",
     "collapsed": false,
     "input": [
      "l = 5/3.5 # wavelength lambda in cm\n",
      "l"
     ],
     "language": "python",
     "metadata": {},
     "outputs": [
      {
       "metadata": {},
       "output_type": "pyout",
       "prompt_number": 10,
       "text": [
        "1.4285714285714286"
       ]
      }
     ],
     "prompt_number": 10
    },
    {
     "cell_type": "markdown",
     "metadata": {},
     "source": [
      "Assume the media in the TC well was rough 0.5 cm deep, so we can consider the case of surface gravity waves in water, which has the dispersion relation:\n",
      "\n",
      "$$ f = \\sqrt{\\frac{g}{2\\pi\\lambda}\\tanh(\\frac{2\\pi h}{\\lambda})} $$\n",
      "\n",
      "Subbing in the height $h = 0.5$ cm, wavelength $\\lambda = 1.43$ cm from above, as well as the standard gravity $g = 9.81$ m/s$^2$, we arrive at the frequency in hertz:"
     ]
    },
    {
     "cell_type": "code",
     "collapsed": false,
     "input": [
      "h = 0.5 # cm\n",
      "g = 9.81 * 100 # cm/s2\n",
      "f = sqrt( g/(2*pi*l) * tanh(2*pi*h/l) ) # Hz\n",
      "f"
     ],
     "language": "python",
     "metadata": {},
     "outputs": [
      {
       "metadata": {},
       "output_type": "pyout",
       "prompt_number": 13,
       "text": [
        "10.326470095656887"
       ]
      }
     ],
     "prompt_number": 13
    },
    {
     "cell_type": "markdown",
     "metadata": {},
     "source": [
      "<img style=\"float:right; margin-left:5px\" src=\"dxb8260hp.jpg\" width=\"20%\"/>\n",
      "When BX found his TC plates messed up with concentric rings, there was ongoing roadworks just beside our building at Immunos: the workers were breaking up the tar road with a hydraulic hammer attached to a crane, laying stuff, then filling up with sand before more pounding and covering over with tar. \n",
      "\n",
      "I did spend some time looking at the roadworks but didn't pay attention to the brand of the heavy equipment. Googling randomly for a road breaker, I found the Doosan hydraulic breaker series have a frequency of 600 blows per minute for their larger units.\n",
      "\n",
      "\n",
      "http://www.doosan.com/doosaninfracorece/attach_files/product_pdf/Doosan_Breaker_EN.pdf\n",
      "\n",
      "That equates to a frequency of 600/60 = 10 Hz. The maximum for smaller hydraulic brakers is 1000 blows/minute = 16.7 Hz. Looks like BX's suspicions of the culprit are spot-on."
     ]
    },
    {
     "cell_type": "code",
     "collapsed": false,
     "input": [],
     "language": "python",
     "metadata": {},
     "outputs": []
    }
   ],
   "metadata": {}
  }
 ]
}